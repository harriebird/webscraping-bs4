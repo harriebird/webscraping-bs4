{
 "cells": [
  {
   "cell_type": "markdown",
   "metadata": {},
   "source": [
    "## import the modules needed"
   ]
  },
  {
   "cell_type": "code",
   "execution_count": 23,
   "metadata": {},
   "outputs": [],
   "source": [
    "from urllib import request\n",
    "import csv\n",
    "from bs4 import BeautifulSoup"
   ]
  },
  {
   "cell_type": "markdown",
   "metadata": {},
   "source": [
    "## make a web request to the target URL and parse it with BeautifulSoup"
   ]
  },
  {
   "cell_type": "code",
   "execution_count": 24,
   "metadata": {},
   "outputs": [],
   "source": [
    "yeah = request.urlopen('https://www.gov.ph/project-list')\n",
    "bsparsed = BeautifulSoup(yeah.read(), 'html.parser')"
   ]
  },
  {
   "cell_type": "markdown",
   "metadata": {},
   "source": [
    "## specify the area where the data will be gathered"
   ]
  },
  {
   "cell_type": "code",
   "execution_count": 28,
   "metadata": {},
   "outputs": [],
   "source": [
    "gov_projects = bsparsed.select('div#projects > div#right-col > ul > li')"
   ]
  },
  {
   "cell_type": "markdown",
   "metadata": {},
   "source": [
    "## create a csv file and write the data gathered"
   ]
  },
  {
   "cell_type": "code",
   "execution_count": 29,
   "metadata": {},
   "outputs": [],
   "source": [
    "csv_file = open('gov_projects.csv', 'w')\n",
    "writer = csv.writer(csv_file)\n",
    "writer.writerow(['Project Name','Implementing Agency','Description','Project URL'])\n",
    "for project in gov_projects:\n",
    "    writer.writerow([\n",
    "        project.find('a', {'class': 'name'}).getText(),\n",
    "        project.find('a', {'class': 'agency'}).getText(),\n",
    "        project.find('span', {'class': 'description'}).getText(),\n",
    "        project.find('a', {'class': 'name'})['href']\n",
    "    ])\n",
    "csv_file.close()"
   ]
  },
  {
   "cell_type": "code",
   "execution_count": null,
   "metadata": {},
   "outputs": [],
   "source": []
  }
 ],
 "metadata": {
  "kernelspec": {
   "display_name": "Python 3",
   "language": "python",
   "name": "python3"
  },
  "language_info": {
   "codemirror_mode": {
    "name": "ipython",
    "version": 3
   },
   "file_extension": ".py",
   "mimetype": "text/x-python",
   "name": "python",
   "nbconvert_exporter": "python",
   "pygments_lexer": "ipython3",
   "version": "3.6.4"
  }
 },
 "nbformat": 4,
 "nbformat_minor": 2
}
