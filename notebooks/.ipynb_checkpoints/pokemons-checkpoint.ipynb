{
 "cells": [
  {
   "cell_type": "code",
   "execution_count": 5,
   "metadata": {},
   "outputs": [],
   "source": [
    "from urllib import request\n",
    "import csv\n",
    "from bs4 import BeautifulSoup"
   ]
  },
  {
   "cell_type": "markdown",
   "metadata": {},
   "source": [
    "## add headers"
   ]
  },
  {
   "cell_type": "code",
   "execution_count": 7,
   "metadata": {},
   "outputs": [],
   "source": [
    "req_headers = {\n",
    "    'Accept-Language': 'en-US,en;q=0.5',\n",
    "    'User-Agent': 'Mozilla/5.0 (X11; Fedora; Linux x86_64; rv:59.0) Gecko/20100101 Firefox/59.0',\n",
    "    'Accept': 'text/html,application/xhtml+xml,application/xml;q=0.9,*/*;q=0.8',\n",
    "    'Connection': 'keep-alive',\n",
    "}\n",
    "site_request = request.Request('http://pokemondb.net/pokedex/all', headers=req_headers)\n",
    "yeah = request.urlopen(site_request)\n",
    "bsparsed = BeautifulSoup(yeah.read(), 'html.parser')"
   ]
  },
  {
   "cell_type": "code",
   "execution_count": 8,
   "metadata": {},
   "outputs": [],
   "source": [
    "pokemons = bsparsed.find('table',{'id': 'pokedex', 'class':'data-table'}).tbody.select('tr')\n",
    "csv_file = open('pokemons.csv', 'w')\n",
    "writer = csv.writer(csv_file)"
   ]
  },
  {
   "cell_type": "code",
   "execution_count": 9,
   "metadata": {},
   "outputs": [],
   "source": [
    "writer.writerow(['ID','Name','Type','Total','HP','ATK','DEF','SP ATK','SP DEF', 'Speed'])\n",
    "for pokemon in pokemons:\n",
    "    writer.writerow([\n",
    "        pokemon.findAll('td')[0].getText(),\n",
    "        pokemon.findAll('td')[1].getText(),\n",
    "        pokemon.findAll('td')[2].getText(),\n",
    "        pokemon.findAll('td')[3].getText(),\n",
    "        pokemon.findAll('td')[4].getText(),\n",
    "        pokemon.findAll('td')[5].getText(),\n",
    "        pokemon.findAll('td')[6].getText(),\n",
    "        pokemon.findAll('td')[7].getText(),\n",
    "        pokemon.findAll('td')[8].getText(),\n",
    "        pokemon.findAll('td')[9].getText(),\n",
    "    ])\n",
    "csv_file.close()"
   ]
  },
  {
   "cell_type": "code",
   "execution_count": null,
   "metadata": {},
   "outputs": [],
   "source": []
  }
 ],
 "metadata": {
  "kernelspec": {
   "display_name": "Python 3",
   "language": "python",
   "name": "python3"
  },
  "language_info": {
   "codemirror_mode": {
    "name": "ipython",
    "version": 3
   },
   "file_extension": ".py",
   "mimetype": "text/x-python",
   "name": "python",
   "nbconvert_exporter": "python",
   "pygments_lexer": "ipython3",
   "version": "3.6.4"
  }
 },
 "nbformat": 4,
 "nbformat_minor": 2
}
